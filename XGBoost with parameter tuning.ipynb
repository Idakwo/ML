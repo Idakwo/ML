{
 "cells": [
  {
   "cell_type": "code",
   "execution_count": 1,
   "metadata": {
    "collapsed": false
   },
   "outputs": [
    {
     "name": "stdout",
     "output_type": "stream",
     "text": [
      "Model Report\n",
      "Best Score: 0.838713 based on {'subsample': 0.4, 'n_estimators': 300, 'learning_rate': 0.01}\n",
      "mean: 0.83212, std: 0.03811, params: {'subsample': 0.7, 'n_estimators': 700, 'learning_rate': 0.001}\n",
      "mean: 0.83719, std: 0.03481, params: {'subsample': 0.2, 'n_estimators': 300, 'learning_rate': 0.01}\n",
      "mean: 0.83871, std: 0.03651, params: {'subsample': 0.4, 'n_estimators': 300, 'learning_rate': 0.01}\n",
      "mean: 0.82637, std: 0.03577, params: {'subsample': 0.4, 'n_estimators': 400, 'learning_rate': 0.0001}\n",
      "mean: 0.83381, std: 0.04192, params: {'subsample': 1.0, 'n_estimators': 500, 'learning_rate': 0.01}\n",
      "mean: 0.80644, std: 0.03084, params: {'subsample': 1.0, 'n_estimators': 400, 'learning_rate': 0.1}\n",
      "mean: 0.83224, std: 0.03932, params: {'subsample': 0.8, 'n_estimators': 100, 'learning_rate': 0.01}\n",
      "mean: 0.83146, std: 0.03897, params: {'subsample': 0.4, 'n_estimators': 100, 'learning_rate': 0.01}\n",
      "mean: 0.82861, std: 0.03880, params: {'subsample': 0.3, 'n_estimators': 500, 'learning_rate': 0.001}\n",
      "mean: 0.82717, std: 0.04102, params: {'subsample': 0.1, 'n_estimators': 500, 'learning_rate': 0.0015}\n"
     ]
    },
    {
     "data": {
      "text/plain": [
       "<matplotlib.text.Text at 0x7f1a3cb295c0>"
      ]
     },
     "execution_count": 1,
     "metadata": {},
     "output_type": "execute_result"
    },
    {
     "data": {
      "image/png": "[encoded data removed]",
      "text/plain": [
       "<matplotlib.figure.Figure at 0x7f1a3d3c4400>"
      ]
     },
     "metadata": {},
     "output_type": "display_data"
    }
   ],
   "source": [
    "import pandas as pd\n",
    "import numpy as np\n",
    "from sklearn.ensemble import GradientBoostingClassifier  \n",
    "from xgboost import XGBClassifier\n",
    "from sklearn import cross_validation, metrics   \n",
    "from sklearn.cross_validation import StratifiedKFold\n",
    "from sklearn.grid_search import RandomizedSearchCV  \n",
    "\n",
    "\n",
    "import matplotlib.pylab as plt\n",
    "%matplotlib inline\n",
    "from matplotlib.pylab import rcParams\n",
    "rcParams['figure.figsize'] = 12, 4\n",
    "\n",
    "url = 'https://archive.ics.uci.edu/ml/machine-learning-databases/pima-indians-diabetes/pima-indians-diabetes.data'\n",
    "features = [\"Times pregnant\", \"Plasma glucose\", \"Diastolic BP\", \"Triceps skin fold thickness\", \"2-Hour serum insulin\", \"BMI\", \"Diabetes pedigree function\", \"Age\"]\n",
    "\n",
    "# load data\n",
    "dataset = pd.read_csv(url, header = None)\n",
    "dataset.head()\n",
    "\n",
    "dataset = dataset.values\n",
    "# split data into X and y\n",
    "X = dataset[:,0:8]\n",
    "y = dataset[:,8]\n",
    "\n",
    "#Instantiate the model\n",
    "model = XGBClassifier()\n",
    "\n",
    "#Parameter Tuning\n",
    "learning_rate = [0.0001, 0.001, 0.0015, 0.01, 0.015, 0.1]\n",
    "n_estimators = [100, 200, 300, 400, 500, 600, 700]\n",
    "subsample = [0.1, 0.2, 0.3, 0.4, 0.5, 0.6, 0.7, 0.8, 1.0]\n",
    "param_grid = dict(learning_rate=learning_rate, n_estimators=n_estimators, subsample=subsample)\n",
    "kfold = StratifiedKFold(y, n_folds=10, shuffle=True, random_state=7)\n",
    "rand_search = RandomizedSearchCV(model, param_grid, scoring=\"roc_auc\", n_jobs=-1, cv=kfold)\n",
    "result = rand_search.fit(X, y)\n",
    "\n",
    "print(\"Model Report\")\n",
    "print(\"Best Score: %f based on %s\" % (result.best_score_, result.best_params_))\n",
    "\n",
    "#print(result.grid_scores_)\n",
    "\n",
    "#print(\"CV Score : Mean - %.7g | Std - %.7g | Min - %.7g | Max - %.7g\" % (np.mean(result.grid_scores_),np.std(result.grid_scores_),np.min(result.grid_scores_),np.max(result.grid_scores_)))\n",
    "        \n",
    "for mean in result.grid_scores_:\n",
    "    print(mean)\n",
    "\n",
    "\n",
    "#Plot Feature Importance\n",
    "model.fit(X,y)\n",
    "feat_imp = pd.Series(model.feature_importances_, features).sort_values(ascending=False)\n",
    "feat_imp.plot(kind='bar', title='Feature Importances')\n",
    "plt.ylabel('Feature Importance Score')\n",
    "\n",
    "#Note: Stochastic Gradient Boosting using subsampling parameter and early stopping rounds(in model.fit) are useful for regularizing XGBoost models\n",
    "#Keep validation data to try out on the tuned parameters"
   ]
  },
  {
   "cell_type": "code",
   "execution_count": null,
   "metadata": {
    "collapsed": false
   },
   "outputs": [],
   "source": []
  },
  {
   "cell_type": "code",
   "execution_count": null,
   "metadata": {
    "collapsed": true
   },
   "outputs": [],
   "source": []
  }
 ],
 "metadata": {
  "kernelspec": {
   "display_name": "Python 3",
   "language": "python",
   "name": "python3"
  },
  "language_info": {
   "codemirror_mode": {
    "name": "ipython",
    "version": 3
   },
   "file_extension": ".py",
   "mimetype": "text/x-python",
   "name": "python",
   "nbconvert_exporter": "python",
   "pygments_lexer": "ipython3",
   "version": "3.5.2"
  }
 },
 "nbformat": 4,
 "nbformat_minor": 0
}
